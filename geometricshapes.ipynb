{
 "cells": [
  {
   "cell_type": "code",
   "execution_count": 19,
   "metadata": {},
   "outputs": [],
   "source": [
    "import cv2\n",
    "import numpy as np"
   ]
  },
  {
   "cell_type": "code",
   "execution_count": 20,
   "metadata": {},
   "outputs": [],
   "source": [
    "img = cv2.imread(\"lena.jpeg\",1)\n",
    "\n",
    "\n",
    "img = cv2.line(img,(0,0),(255,255),(255,0,0),2)\n",
    "img = cv2.rectangle(img,(0,0),(20,20),(255,255,0),-1)  #if we provide -1 then rectangle will be filled with specified color\n",
    "img = cv2.circle(img,(150,150),50,(0,255,0),-1)\n",
    "font = cv2.FONT_HERSHEY_COMPLEX\n",
    "img = cv2.putText(img,'openCV',(10,500),font,4,(255,255,0),10,cv2.LINE_AA)\n",
    "\n",
    "\n",
    "cv2.imshow('img',img)\n",
    "cv2.waitKey(0)\n",
    "cv2.destroyAllWindows()"
   ]
  },
  {
   "cell_type": "code",
   "execution_count": 21,
   "metadata": {},
   "outputs": [],
   "source": [
    "#creating images using numpy\n",
    "\n",
    "\n",
    "img = np.zeros([512,512,3],np.uint8)\n",
    "img = cv2.line(img,(0,0),(255,255),(255,0,0),2)\n",
    "img = cv2.rectangle(img,(0,0),(20,20),(255,255,0),-1)  #if we provide -1 then rectangle will be filled with specified color\n",
    "img = cv2.circle(img,(150,150),50,(0,255,0),-1)\n",
    "font = cv2.FONT_HERSHEY_COMPLEX\n",
    "img = cv2.putText(img,'openCV',(10,500),font,4,(255,255,0),10,cv2.LINE_AA)\n",
    "\n",
    "\n",
    "cv2.imshow('img',img)\n",
    "cv2.waitKey(0)\n",
    "cv2.destroyAllWindows()"
   ]
  },
  {
   "cell_type": "code",
   "execution_count": null,
   "metadata": {},
   "outputs": [],
   "source": []
  }
 ],
 "metadata": {
  "kernelspec": {
   "display_name": "Python 3",
   "language": "python",
   "name": "python3"
  },
  "language_info": {
   "codemirror_mode": {
    "name": "ipython",
    "version": 3
   },
   "file_extension": ".py",
   "mimetype": "text/x-python",
   "name": "python",
   "nbconvert_exporter": "python",
   "pygments_lexer": "ipython3",
   "version": "3.7.6"
  }
 },
 "nbformat": 4,
 "nbformat_minor": 4
}
