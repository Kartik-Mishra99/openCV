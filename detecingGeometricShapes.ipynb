{
 "cells": [
  {
   "cell_type": "code",
   "execution_count": 1,
   "metadata": {},
   "outputs": [],
   "source": [
    "import cv2"
   ]
  },
  {
   "cell_type": "code",
   "execution_count": 2,
   "metadata": {},
   "outputs": [
    {
     "name": "stdout",
     "output_type": "stream",
     "text": [
      "1.5025062656641603\n",
      "1.6829268292682926\n",
      "0.9969788519637462\n"
     ]
    }
   ],
   "source": [
    "img = cv2.imread(\"shapes.jpg\")\n",
    "imggrey = cv2.cvtColor(img,cv2.COLOR_BGR2GRAY)\n",
    "_,thresh = cv2.threshold(imggrey,240,255,cv2.THRESH_BINARY)\n",
    "contours , _ = cv2.findContours(thresh,cv2.RETR_TREE,cv2.CHAIN_APPROX_NONE)\n",
    "\n",
    "for contour in contours:\n",
    "    approx = cv2.approxPolyDP(contour,0.01*cv2.arcLength(contour,True),True) #true means closed contour    #0.01*cv2.arclength is epsilon\n",
    "    cv2.drawContours(img,[approx],0,(255,0,0),5)   #as we are iterating through all the contours so index will be always be 0  -- IMPORTANT\n",
    "    x = approx.ravel()[0]\n",
    "    y = approx.ravel()[1]  # 1 is y corr   on these x and y corr. we will print our text\n",
    "    if len(approx)==3:\n",
    "        cv2.putText(img,\"triangle\",(x,y),cv2.FONT_HERSHEY_COMPLEX,0.5,[0,0,0])  #0.5 is fontscale\n",
    "    elif len(approx)==4:\n",
    "        x,y,w,h = cv2.boundingRect(approx)\n",
    "        aspectratio = float(w/h)\n",
    "        print(aspectratio)\n",
    "        if aspectratio>=1 and aspectratio<=0:\n",
    "            cv2.putText(img,\"square\",(x,y),cv2.FONT_HERSHEY_COMPLEX,0.5,[0,0,0])\n",
    "        else:\n",
    "            cv2.putText(img,\"rectangle\",(x,y),cv2.FONT_HERSHEY_COMPLEX,0.5,[0,0,0])\n",
    "            \n",
    "          #0.5 is fontscale\n",
    "    elif len(approx)==5:\n",
    "        cv2.putText(img,\"pentagon\",(x,y),cv2.FONT_HERSHEY_COMPLEX,0.5,[0,0,0])  #0.5 is fontscale\n",
    "    elif len(approx)==10:\n",
    "        cv2.putText(img,\"star\",(x,y),cv2.FONT_HERSHEY_COMPLEX,0.5,[0,0,0])  #0.5 is fontscale\n",
    "    else :\n",
    "        cv2.putText(img,\"circle\",(x,y),cv2.FONT_HERSHEY_COMPLEX,0.5,[0,0,0])  #0.5 is fontscale\n",
    "    \n",
    "    \n",
    "cv2.imshow(\"shapes\", img)\n",
    "cv2.waitKey(0)\n",
    "cv2.destroyAllWindows()\n",
    "    \n",
    "    "
   ]
  },
  {
   "cell_type": "code",
   "execution_count": null,
   "metadata": {},
   "outputs": [],
   "source": []
  }
 ],
 "metadata": {
  "kernelspec": {
   "display_name": "Python 3",
   "language": "python",
   "name": "python3"
  },
  "language_info": {
   "codemirror_mode": {
    "name": "ipython",
    "version": 3
   },
   "file_extension": ".py",
   "mimetype": "text/x-python",
   "name": "python",
   "nbconvert_exporter": "python",
   "pygments_lexer": "ipython3",
   "version": "3.7.6"
  }
 },
 "nbformat": 4,
 "nbformat_minor": 4
}
