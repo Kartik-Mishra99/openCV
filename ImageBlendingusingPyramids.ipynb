{
 "cells": [
  {
   "cell_type": "code",
   "execution_count": 8,
   "metadata": {},
   "outputs": [],
   "source": [
    "import cv2\n",
    "import matplotlib.pyplot as plt\n",
    "import numpy as np"
   ]
  },
  {
   "cell_type": "code",
   "execution_count": 13,
   "metadata": {},
   "outputs": [
    {
     "name": "stdout",
     "output_type": "stream",
     "text": [
      "(225, 225, 3)\n",
      "(225, 225, 3)\n"
     ]
    },
    {
     "ename": "error",
     "evalue": "OpenCV(4.1.2) /io/opencv/modules/core/src/arithm.cpp:663: error: (-209:Sizes of input arguments do not match) The operation is neither 'array op array' (where arrays have the same size and the same number of channels), nor 'array op scalar', nor 'scalar op array' in function 'arithm_op'\n",
     "output_type": "error",
     "traceback": [
      "\u001b[0;31m---------------------------------------------------------------------------\u001b[0m",
      "\u001b[0;31merror\u001b[0m                                     Traceback (most recent call last)",
      "\u001b[0;32m<ipython-input-13-23ec9b7ca2f8>\u001b[0m in \u001b[0;36m<module>\u001b[0;34m\u001b[0m\n\u001b[1;32m     26\u001b[0m \u001b[0;32mfor\u001b[0m \u001b[0mi\u001b[0m \u001b[0;32min\u001b[0m \u001b[0mrange\u001b[0m\u001b[0;34m(\u001b[0m\u001b[0;36m5\u001b[0m\u001b[0;34m,\u001b[0m\u001b[0;36m0\u001b[0m\u001b[0;34m,\u001b[0m\u001b[0;34m-\u001b[0m\u001b[0;36m1\u001b[0m\u001b[0;34m)\u001b[0m\u001b[0;34m:\u001b[0m\u001b[0;34m\u001b[0m\u001b[0;34m\u001b[0m\u001b[0m\n\u001b[1;32m     27\u001b[0m     \u001b[0mgaussian_extended\u001b[0m \u001b[0;34m=\u001b[0m \u001b[0mcv2\u001b[0m\u001b[0;34m.\u001b[0m\u001b[0mpyrUp\u001b[0m\u001b[0;34m(\u001b[0m\u001b[0mgp_apple\u001b[0m\u001b[0;34m[\u001b[0m\u001b[0mi\u001b[0m\u001b[0;34m]\u001b[0m\u001b[0;34m)\u001b[0m\u001b[0;34m\u001b[0m\u001b[0;34m\u001b[0m\u001b[0m\n\u001b[0;32m---> 28\u001b[0;31m     \u001b[0mlaplacian\u001b[0m \u001b[0;34m=\u001b[0m \u001b[0mcv2\u001b[0m\u001b[0;34m.\u001b[0m\u001b[0msubtract\u001b[0m\u001b[0;34m(\u001b[0m\u001b[0mgp_apple\u001b[0m\u001b[0;34m[\u001b[0m\u001b[0mi\u001b[0m\u001b[0;34m]\u001b[0m \u001b[0;34m-\u001b[0m \u001b[0;36m1\u001b[0m \u001b[0;34m,\u001b[0m \u001b[0mgaussian_extended\u001b[0m\u001b[0;34m)\u001b[0m\u001b[0;34m\u001b[0m\u001b[0;34m\u001b[0m\u001b[0m\n\u001b[0m\u001b[1;32m     29\u001b[0m     \u001b[0mlp_apple\u001b[0m\u001b[0;34m.\u001b[0m\u001b[0mappend\u001b[0m\u001b[0;34m(\u001b[0m\u001b[0mlaplacian\u001b[0m\u001b[0;34m)\u001b[0m\u001b[0;34m\u001b[0m\u001b[0;34m\u001b[0m\u001b[0m\n\u001b[1;32m     30\u001b[0m \u001b[0;34m\u001b[0m\u001b[0m\n",
      "\u001b[0;31merror\u001b[0m: OpenCV(4.1.2) /io/opencv/modules/core/src/arithm.cpp:663: error: (-209:Sizes of input arguments do not match) The operation is neither 'array op array' (where arrays have the same size and the same number of channels), nor 'array op scalar', nor 'scalar op array' in function 'arithm_op'\n"
     ]
    }
   ],
   "source": [
    "apple = cv2.imread('apple.jpeg')\n",
    "orange = cv2.imread('orange.jpeg')\n",
    "print(apple.shape)\n",
    "print(orange.shape)\n",
    "apple_orange = np.hstack((apple[:, :256], orange[:, 256:]))\n",
    "\n",
    "#generate gaussian pyramid for apple\n",
    "apple_copy = apple.copy()\n",
    "gp_apple = [apple_copy]\n",
    "\n",
    "for i in range(6):\n",
    "    apple_copy = cv2.pyrDown(apple_copy)\n",
    "    gp_apple.append(apple_copy)\n",
    "    \n",
    "#generate gaussian pyramid for orange\n",
    "orange_copy = orange.copy()\n",
    "gp_orange = [orange_copy]\n",
    "\n",
    "for i in range(6):\n",
    "    orange_copy = cv2.pyrDown(orange_copy)\n",
    "    gp_orange.append(orange_copy)\n",
    "    \n",
    "#generate laplacian pyramids for apple\n",
    "apple_copy = gp_apple[5]  #using 5th element of this list\n",
    "lp_apple = [apple_copy]\n",
    "for i in range(5,0,-1):\n",
    "    gaussian_extended = cv2.pyrUp(gp_apple[i])\n",
    "    laplacian = cv2.subtract(gp_apple[i] - 1 , gaussian_extended)\n",
    "    lp_apple.append(laplacian)\n",
    "    \n",
    "    \n",
    "#generate laplacian pyramids for orange\n",
    "orange_copy = gp_orange[5]  #using 5th element of this list\n",
    "lp_orange = [orange_copy]\n",
    "for i in range(5,0,-1):\n",
    "    gaussian_extended = cv2.pyrUp(gp_orange[i])\n",
    "    laplacian = cv2.subtract(gp_orange[i] - 1 , gaussian_extended)\n",
    "    lp_orange.append(laplacian)\n",
    "    \n",
    "    \n",
    "apple_orange_pyramid = []\n",
    "n=0\n",
    "for apple_lap,orange_lap in zip(lp_apple,lp_orange):\n",
    "    n +=1\n",
    "    cols,rows,ch = apple_lap.shape\n",
    "    laplacian = np.hstack(apple_lap[:,0:int(cols/2)],orange_lap[:,int(cols/2):])\n",
    "    apple_orange_pyramid.append(laplacian)\n",
    "    \n",
    "#reconstruct our image\n",
    "\n",
    "apple_orange_reconstruct = apple_orange_pyramid[0]\n",
    "for i in range(1,6):\n",
    "    apple_orange_reconstruct = cv2.pyrUp(apple_orange_reconstruct)\n",
    "    apple_orange_reconstruct = cv2.add(apple_orange_pyramid[i], apple_orange_reconstruct)\n",
    "\n",
    "cv2.imshow(\"apple\", apple)\n",
    "cv2.imshow(\"orange\", orange)\n",
    "cv2.imshow(\"apple_orange\", apple_orange)\n",
    "cv2.imshow(\"apple_orange_reconstruct\", apple_orange_reconstruct)\n",
    "cv2.waitKey(0)\n",
    "cv2.destroyAllWindows()\n",
    "    \n",
    "\n",
    "\n",
    "\n",
    "\n",
    "\n"
   ]
  },
  {
   "cell_type": "code",
   "execution_count": null,
   "metadata": {},
   "outputs": [],
   "source": []
  },
  {
   "cell_type": "code",
   "execution_count": null,
   "metadata": {},
   "outputs": [],
   "source": []
  },
  {
   "cell_type": "code",
   "execution_count": null,
   "metadata": {},
   "outputs": [],
   "source": []
  }
 ],
 "metadata": {
  "kernelspec": {
   "display_name": "Python 3",
   "language": "python",
   "name": "python3"
  },
  "language_info": {
   "codemirror_mode": {
    "name": "ipython",
    "version": 3
   },
   "file_extension": ".py",
   "mimetype": "text/x-python",
   "name": "python",
   "nbconvert_exporter": "python",
   "pygments_lexer": "ipython3",
   "version": "3.7.6"
  }
 },
 "nbformat": 4,
 "nbformat_minor": 4
}
